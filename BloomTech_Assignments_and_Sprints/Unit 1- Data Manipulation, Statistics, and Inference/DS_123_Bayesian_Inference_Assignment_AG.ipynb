{
  "cells": [
    {
      "cell_type": "markdown",
      "metadata": {
        "id": "H7OLbevlbd_Z"
      },
      "source": [
        "# Lambda School Data Science - Unit 1 Sprint 2 Module 4\n",
        "\n",
        "## Module Project: Introduction to Bayesian Inference\n",
        "\n",
        "\n",
        "\n",
        "#### Total notebook points: 12"
      ]
    },
    {
      "cell_type": "markdown",
      "metadata": {
        "id": "qYfsB9myfV0l"
      },
      "source": [
        "## Introduction\n",
        "\n",
        "In this project, we're going to practice calculating conditional probabilities. You will use Python and the pandas cross tabulation method to look at various survival scenarios. After you complete the Titanic calculations, we'll visit the Harry Potter Universe and apply what we learned to the Sorting Hat situation at Hogwarts (a detailed description of the problem is provided - you don't need to have any familiarity with the Harry Potter books or movies). \n",
        "\n",
        "### Data set\n",
        "\n",
        "We'll be working with the Titanic dataset for this Module Project. It is available in various locations but the data at the URL provided is what we'll use today."
      ]
    },
    {
      "cell_type": "markdown",
      "metadata": {
        "id": "iliKwAvIKbyD"
      },
      "source": [
        "### Warmup Question\n",
        "\n",
        "In your own words, summarize the difference between Bayesian and Frequentist statistics.\n",
        "\n",
        "ANSWER:"
      ]
    },
    {
      "cell_type": "markdown",
      "metadata": {
        "id": "db4m0HhBCMhR"
      },
      "source": [
        "## Part A\n",
        "\n",
        "### Conditional Probabilities \n",
        "\n",
        "For Tasks 1 - 8 use the following information:\n",
        "\n",
        "Let **A** be the event of surviving the sinking of the Titanic and **B** be the event of being a 1st class passenger."
      ]
    },
    {
      "cell_type": "markdown",
      "metadata": {
        "id": "bvFf3ycYfV0m"
      },
      "source": [
        "**Task 1** - Load the data\n",
        "\n",
        "As we usually begin, let's load the data! The URL has been provided.\n",
        "\n",
        "* load your CSV file into a DataFrame named `df`"
      ]
    },
    {
      "cell_type": "code",
      "execution_count": null,
      "metadata": {
        "colab": {
          "base_uri": "https://localhost:8080/",
          "height": 206
        },
        "deletable": false,
        "id": "qXaf5leo7CHr",
        "nbgrader": {
          "cell_type": "code",
          "checksum": "03a6b6486122907200ef39a158aba4fc",
          "grade": false,
          "grade_id": "cell-282a5c44db0c5259",
          "locked": false,
          "schema_version": 3,
          "solution": true,
          "task": false
        },
        "outputId": "9660516e-98d1-4cbb-f518-1c21016124a0"
      },
      "outputs": [
        {
          "output_type": "execute_result",
          "data": {
            "text/html": [
              "\n",
              "  <div id=\"df-9e964f3f-ecbc-43f0-9048-bce2219f447a\">\n",
              "    <div class=\"colab-df-container\">\n",
              "      <div>\n",
              "<style scoped>\n",
              "    .dataframe tbody tr th:only-of-type {\n",
              "        vertical-align: middle;\n",
              "    }\n",
              "\n",
              "    .dataframe tbody tr th {\n",
              "        vertical-align: top;\n",
              "    }\n",
              "\n",
              "    .dataframe thead th {\n",
              "        text-align: right;\n",
              "    }\n",
              "</style>\n",
              "<table border=\"1\" class=\"dataframe\">\n",
              "  <thead>\n",
              "    <tr style=\"text-align: right;\">\n",
              "      <th></th>\n",
              "      <th>Survived</th>\n",
              "      <th>Pclass</th>\n",
              "      <th>Name</th>\n",
              "      <th>Sex</th>\n",
              "      <th>Age</th>\n",
              "      <th>Siblings/Spouses_Aboard</th>\n",
              "      <th>Parents/Children_Aboard</th>\n",
              "      <th>Fare</th>\n",
              "    </tr>\n",
              "  </thead>\n",
              "  <tbody>\n",
              "    <tr>\n",
              "      <th>0</th>\n",
              "      <td>0</td>\n",
              "      <td>3</td>\n",
              "      <td>Mr. Owen Harris Braund</td>\n",
              "      <td>male</td>\n",
              "      <td>22.0</td>\n",
              "      <td>1</td>\n",
              "      <td>0</td>\n",
              "      <td>7.2500</td>\n",
              "    </tr>\n",
              "    <tr>\n",
              "      <th>1</th>\n",
              "      <td>1</td>\n",
              "      <td>1</td>\n",
              "      <td>Mrs. John Bradley (Florence Briggs Thayer) Cum...</td>\n",
              "      <td>female</td>\n",
              "      <td>38.0</td>\n",
              "      <td>1</td>\n",
              "      <td>0</td>\n",
              "      <td>71.2833</td>\n",
              "    </tr>\n",
              "    <tr>\n",
              "      <th>2</th>\n",
              "      <td>1</td>\n",
              "      <td>3</td>\n",
              "      <td>Miss. Laina Heikkinen</td>\n",
              "      <td>female</td>\n",
              "      <td>26.0</td>\n",
              "      <td>0</td>\n",
              "      <td>0</td>\n",
              "      <td>7.9250</td>\n",
              "    </tr>\n",
              "    <tr>\n",
              "      <th>3</th>\n",
              "      <td>1</td>\n",
              "      <td>1</td>\n",
              "      <td>Mrs. Jacques Heath (Lily May Peel) Futrelle</td>\n",
              "      <td>female</td>\n",
              "      <td>35.0</td>\n",
              "      <td>1</td>\n",
              "      <td>0</td>\n",
              "      <td>53.1000</td>\n",
              "    </tr>\n",
              "    <tr>\n",
              "      <th>4</th>\n",
              "      <td>0</td>\n",
              "      <td>3</td>\n",
              "      <td>Mr. William Henry Allen</td>\n",
              "      <td>male</td>\n",
              "      <td>35.0</td>\n",
              "      <td>0</td>\n",
              "      <td>0</td>\n",
              "      <td>8.0500</td>\n",
              "    </tr>\n",
              "  </tbody>\n",
              "</table>\n",
              "</div>\n",
              "      <button class=\"colab-df-convert\" onclick=\"convertToInteractive('df-9e964f3f-ecbc-43f0-9048-bce2219f447a')\"\n",
              "              title=\"Convert this dataframe to an interactive table.\"\n",
              "              style=\"display:none;\">\n",
              "        \n",
              "  <svg xmlns=\"http://www.w3.org/2000/svg\" height=\"24px\"viewBox=\"0 0 24 24\"\n",
              "       width=\"24px\">\n",
              "    <path d=\"M0 0h24v24H0V0z\" fill=\"none\"/>\n",
              "    <path d=\"M18.56 5.44l.94 2.06.94-2.06 2.06-.94-2.06-.94-.94-2.06-.94 2.06-2.06.94zm-11 1L8.5 8.5l.94-2.06 2.06-.94-2.06-.94L8.5 2.5l-.94 2.06-2.06.94zm10 10l.94 2.06.94-2.06 2.06-.94-2.06-.94-.94-2.06-.94 2.06-2.06.94z\"/><path d=\"M17.41 7.96l-1.37-1.37c-.4-.4-.92-.59-1.43-.59-.52 0-1.04.2-1.43.59L10.3 9.45l-7.72 7.72c-.78.78-.78 2.05 0 2.83L4 21.41c.39.39.9.59 1.41.59.51 0 1.02-.2 1.41-.59l7.78-7.78 2.81-2.81c.8-.78.8-2.07 0-2.86zM5.41 20L4 18.59l7.72-7.72 1.47 1.35L5.41 20z\"/>\n",
              "  </svg>\n",
              "      </button>\n",
              "      \n",
              "  <style>\n",
              "    .colab-df-container {\n",
              "      display:flex;\n",
              "      flex-wrap:wrap;\n",
              "      gap: 12px;\n",
              "    }\n",
              "\n",
              "    .colab-df-convert {\n",
              "      background-color: #E8F0FE;\n",
              "      border: none;\n",
              "      border-radius: 50%;\n",
              "      cursor: pointer;\n",
              "      display: none;\n",
              "      fill: #1967D2;\n",
              "      height: 32px;\n",
              "      padding: 0 0 0 0;\n",
              "      width: 32px;\n",
              "    }\n",
              "\n",
              "    .colab-df-convert:hover {\n",
              "      background-color: #E2EBFA;\n",
              "      box-shadow: 0px 1px 2px rgba(60, 64, 67, 0.3), 0px 1px 3px 1px rgba(60, 64, 67, 0.15);\n",
              "      fill: #174EA6;\n",
              "    }\n",
              "\n",
              "    [theme=dark] .colab-df-convert {\n",
              "      background-color: #3B4455;\n",
              "      fill: #D2E3FC;\n",
              "    }\n",
              "\n",
              "    [theme=dark] .colab-df-convert:hover {\n",
              "      background-color: #434B5C;\n",
              "      box-shadow: 0px 1px 3px 1px rgba(0, 0, 0, 0.15);\n",
              "      filter: drop-shadow(0px 1px 2px rgba(0, 0, 0, 0.3));\n",
              "      fill: #FFFFFF;\n",
              "    }\n",
              "  </style>\n",
              "\n",
              "      <script>\n",
              "        const buttonEl =\n",
              "          document.querySelector('#df-9e964f3f-ecbc-43f0-9048-bce2219f447a button.colab-df-convert');\n",
              "        buttonEl.style.display =\n",
              "          google.colab.kernel.accessAllowed ? 'block' : 'none';\n",
              "\n",
              "        async function convertToInteractive(key) {\n",
              "          const element = document.querySelector('#df-9e964f3f-ecbc-43f0-9048-bce2219f447a');\n",
              "          const dataTable =\n",
              "            await google.colab.kernel.invokeFunction('convertToInteractive',\n",
              "                                                     [key], {});\n",
              "          if (!dataTable) return;\n",
              "\n",
              "          const docLinkHtml = 'Like what you see? Visit the ' +\n",
              "            '<a target=\"_blank\" href=https://colab.research.google.com/notebooks/data_table.ipynb>data table notebook</a>'\n",
              "            + ' to learn more about interactive tables.';\n",
              "          element.innerHTML = '';\n",
              "          dataTable['output_type'] = 'display_data';\n",
              "          await google.colab.output.renderOutput(dataTable, element);\n",
              "          const docLink = document.createElement('div');\n",
              "          docLink.innerHTML = docLinkHtml;\n",
              "          element.appendChild(docLink);\n",
              "        }\n",
              "      </script>\n",
              "    </div>\n",
              "  </div>\n",
              "  "
            ],
            "text/plain": [
              "   Survived  Pclass  ... Parents/Children_Aboard     Fare\n",
              "0         0       3  ...                       0   7.2500\n",
              "1         1       1  ...                       0  71.2833\n",
              "2         1       3  ...                       0   7.9250\n",
              "3         1       1  ...                       0  53.1000\n",
              "4         0       3  ...                       0   8.0500\n",
              "\n",
              "[5 rows x 8 columns]"
            ]
          },
          "metadata": {},
          "execution_count": 303
        }
      ],
      "source": [
        "# Task 1\n",
        "\n",
        "import pandas as pd\n",
        "import numpy as np\n",
        "\n",
        "data_url = 'https://raw.githubusercontent.com/LambdaSchool/data-science-practice-datasets/main/unit_1/Titanic/Titanic.csv'\n",
        "# YOUR CODE HERE\n",
        "df = pd.read_csv(data_url)\n",
        "\n",
        "# View the DataFrame\n",
        "df.head()"
      ]
    },
    {
      "cell_type": "markdown",
      "metadata": {
        "id": "vNlDUCUdfV0o"
      },
      "source": [
        "**Task 1 - Test**"
      ]
    },
    {
      "cell_type": "code",
      "execution_count": null,
      "metadata": {
        "deletable": false,
        "editable": false,
        "id": "KS4QNZcIfV0o",
        "nbgrader": {
          "cell_type": "code",
          "checksum": "9d5903bf9f6e73bffaeb7880b33d0a38",
          "grade": true,
          "grade_id": "cell-dfb792f5ef91f211",
          "locked": true,
          "points": 1,
          "schema_version": 3,
          "solution": false,
          "task": false
        }
      },
      "outputs": [],
      "source": [
        "# Task 1 - Test\n",
        "\n",
        "assert isinstance(df, pd.DataFrame), 'Have you created a DataFrame named `df`?'\n",
        "assert len(df) == 887\n"
      ]
    },
    {
      "cell_type": "markdown",
      "metadata": {
        "deletable": false,
        "editable": false,
        "id": "4shP8MH8CbrZ",
        "nbgrader": {
          "cell_type": "markdown",
          "checksum": "b54a79dc51bd50ced7d03bb1370aa9d3",
          "grade": false,
          "grade_id": "cell-82dac32bcc1fa69b",
          "locked": true,
          "schema_version": 3,
          "solution": false,
          "task": false
        }
      },
      "source": [
        "**Task 2** - Survival probability\n",
        "\n",
        "We'll start by calculating the probability of surviving; we'll write the probability as P(A)\n",
        "\n",
        "* calculate the cross tabulation for the `Pclass` and `Survived` variables and assign it to `cross_tab`.  Make sure to include the table margins.\n",
        "* using the cross tabulation results, calculate P(A) and assign it to the variable `p_a`\n",
        "\n",
        "*Hint: we write the probability of an event using a decimal, not a percent.*"
      ]
    },
    {
      "cell_type": "code",
      "execution_count": null,
      "metadata": {
        "deletable": false,
        "id": "iDi0eFr1x-v_",
        "nbgrader": {
          "cell_type": "code",
          "checksum": "fc9b374ec61db6b520f49f75393fb99e",
          "grade": false,
          "grade_id": "cell-800eb0784f0daf9f",
          "locked": false,
          "schema_version": 3,
          "solution": true,
          "task": false
        },
        "colab": {
          "base_uri": "https://localhost:8080/"
        },
        "outputId": "4a00adf8-b634-4d67-8936-e99b7b7734df"
      },
      "outputs": [
        {
          "output_type": "stream",
          "name": "stdout",
          "text": [
            "The value of P(A) is: 0.3855693348365276\n"
          ]
        }
      ],
      "source": [
        "# Task 2\n",
        "\n",
        "# YOUR CODE HERE\n",
        "cross_tab = pd.crosstab(df['Pclass'],df['Survived'], margins=True)\n",
        "p_a = cross_tab.loc['All',1] /cross_tab.loc['All','All']\n",
        "print('The value of P(A) is:', p_a)\n"
      ]
    },
    {
      "cell_type": "code",
      "execution_count": null,
      "metadata": {
        "colab": {
          "base_uri": "https://localhost:8080/",
          "height": 206
        },
        "id": "C6ma2UR6u8TX",
        "outputId": "3ab5a473-4def-4ad4-c1dc-646c9137cc9f"
      },
      "outputs": [
        {
          "output_type": "execute_result",
          "data": {
            "text/html": [
              "\n",
              "  <div id=\"df-40e39e03-05e3-436f-8d41-1f128876408c\">\n",
              "    <div class=\"colab-df-container\">\n",
              "      <div>\n",
              "<style scoped>\n",
              "    .dataframe tbody tr th:only-of-type {\n",
              "        vertical-align: middle;\n",
              "    }\n",
              "\n",
              "    .dataframe tbody tr th {\n",
              "        vertical-align: top;\n",
              "    }\n",
              "\n",
              "    .dataframe thead th {\n",
              "        text-align: right;\n",
              "    }\n",
              "</style>\n",
              "<table border=\"1\" class=\"dataframe\">\n",
              "  <thead>\n",
              "    <tr style=\"text-align: right;\">\n",
              "      <th>Survived</th>\n",
              "      <th>0</th>\n",
              "      <th>1</th>\n",
              "      <th>All</th>\n",
              "    </tr>\n",
              "    <tr>\n",
              "      <th>Pclass</th>\n",
              "      <th></th>\n",
              "      <th></th>\n",
              "      <th></th>\n",
              "    </tr>\n",
              "  </thead>\n",
              "  <tbody>\n",
              "    <tr>\n",
              "      <th>1</th>\n",
              "      <td>80</td>\n",
              "      <td>136</td>\n",
              "      <td>216</td>\n",
              "    </tr>\n",
              "    <tr>\n",
              "      <th>2</th>\n",
              "      <td>97</td>\n",
              "      <td>87</td>\n",
              "      <td>184</td>\n",
              "    </tr>\n",
              "    <tr>\n",
              "      <th>3</th>\n",
              "      <td>368</td>\n",
              "      <td>119</td>\n",
              "      <td>487</td>\n",
              "    </tr>\n",
              "    <tr>\n",
              "      <th>All</th>\n",
              "      <td>545</td>\n",
              "      <td>342</td>\n",
              "      <td>887</td>\n",
              "    </tr>\n",
              "  </tbody>\n",
              "</table>\n",
              "</div>\n",
              "      <button class=\"colab-df-convert\" onclick=\"convertToInteractive('df-40e39e03-05e3-436f-8d41-1f128876408c')\"\n",
              "              title=\"Convert this dataframe to an interactive table.\"\n",
              "              style=\"display:none;\">\n",
              "        \n",
              "  <svg xmlns=\"http://www.w3.org/2000/svg\" height=\"24px\"viewBox=\"0 0 24 24\"\n",
              "       width=\"24px\">\n",
              "    <path d=\"M0 0h24v24H0V0z\" fill=\"none\"/>\n",
              "    <path d=\"M18.56 5.44l.94 2.06.94-2.06 2.06-.94-2.06-.94-.94-2.06-.94 2.06-2.06.94zm-11 1L8.5 8.5l.94-2.06 2.06-.94-2.06-.94L8.5 2.5l-.94 2.06-2.06.94zm10 10l.94 2.06.94-2.06 2.06-.94-2.06-.94-.94-2.06-.94 2.06-2.06.94z\"/><path d=\"M17.41 7.96l-1.37-1.37c-.4-.4-.92-.59-1.43-.59-.52 0-1.04.2-1.43.59L10.3 9.45l-7.72 7.72c-.78.78-.78 2.05 0 2.83L4 21.41c.39.39.9.59 1.41.59.51 0 1.02-.2 1.41-.59l7.78-7.78 2.81-2.81c.8-.78.8-2.07 0-2.86zM5.41 20L4 18.59l7.72-7.72 1.47 1.35L5.41 20z\"/>\n",
              "  </svg>\n",
              "      </button>\n",
              "      \n",
              "  <style>\n",
              "    .colab-df-container {\n",
              "      display:flex;\n",
              "      flex-wrap:wrap;\n",
              "      gap: 12px;\n",
              "    }\n",
              "\n",
              "    .colab-df-convert {\n",
              "      background-color: #E8F0FE;\n",
              "      border: none;\n",
              "      border-radius: 50%;\n",
              "      cursor: pointer;\n",
              "      display: none;\n",
              "      fill: #1967D2;\n",
              "      height: 32px;\n",
              "      padding: 0 0 0 0;\n",
              "      width: 32px;\n",
              "    }\n",
              "\n",
              "    .colab-df-convert:hover {\n",
              "      background-color: #E2EBFA;\n",
              "      box-shadow: 0px 1px 2px rgba(60, 64, 67, 0.3), 0px 1px 3px 1px rgba(60, 64, 67, 0.15);\n",
              "      fill: #174EA6;\n",
              "    }\n",
              "\n",
              "    [theme=dark] .colab-df-convert {\n",
              "      background-color: #3B4455;\n",
              "      fill: #D2E3FC;\n",
              "    }\n",
              "\n",
              "    [theme=dark] .colab-df-convert:hover {\n",
              "      background-color: #434B5C;\n",
              "      box-shadow: 0px 1px 3px 1px rgba(0, 0, 0, 0.15);\n",
              "      filter: drop-shadow(0px 1px 2px rgba(0, 0, 0, 0.3));\n",
              "      fill: #FFFFFF;\n",
              "    }\n",
              "  </style>\n",
              "\n",
              "      <script>\n",
              "        const buttonEl =\n",
              "          document.querySelector('#df-40e39e03-05e3-436f-8d41-1f128876408c button.colab-df-convert');\n",
              "        buttonEl.style.display =\n",
              "          google.colab.kernel.accessAllowed ? 'block' : 'none';\n",
              "\n",
              "        async function convertToInteractive(key) {\n",
              "          const element = document.querySelector('#df-40e39e03-05e3-436f-8d41-1f128876408c');\n",
              "          const dataTable =\n",
              "            await google.colab.kernel.invokeFunction('convertToInteractive',\n",
              "                                                     [key], {});\n",
              "          if (!dataTable) return;\n",
              "\n",
              "          const docLinkHtml = 'Like what you see? Visit the ' +\n",
              "            '<a target=\"_blank\" href=https://colab.research.google.com/notebooks/data_table.ipynb>data table notebook</a>'\n",
              "            + ' to learn more about interactive tables.';\n",
              "          element.innerHTML = '';\n",
              "          dataTable['output_type'] = 'display_data';\n",
              "          await google.colab.output.renderOutput(dataTable, element);\n",
              "          const docLink = document.createElement('div');\n",
              "          docLink.innerHTML = docLinkHtml;\n",
              "          element.appendChild(docLink);\n",
              "        }\n",
              "      </script>\n",
              "    </div>\n",
              "  </div>\n",
              "  "
            ],
            "text/plain": [
              "Survived    0    1  All\n",
              "Pclass                 \n",
              "1          80  136  216\n",
              "2          97   87  184\n",
              "3         368  119  487\n",
              "All       545  342  887"
            ]
          },
          "metadata": {},
          "execution_count": 306
        }
      ],
      "source": [
        "pd.crosstab(df['Pclass'], df['Survived'], margins=True)"
      ]
    },
    {
      "cell_type": "markdown",
      "metadata": {
        "id": "gh2JCwr7fV0p"
      },
      "source": [
        "**Task 2 - Test**"
      ]
    },
    {
      "cell_type": "code",
      "execution_count": null,
      "metadata": {
        "deletable": false,
        "editable": false,
        "id": "7rqNlPJPfV0p",
        "nbgrader": {
          "cell_type": "code",
          "checksum": "7297dc09e6f8fa72c0a40e87ed2a3148",
          "grade": true,
          "grade_id": "cell-c4fbdfeb780e3bd6",
          "locked": true,
          "points": 1,
          "schema_version": 3,
          "solution": false,
          "task": false
        }
      },
      "outputs": [],
      "source": [
        "# Task 2 - Test\n",
        "assert isinstance(cross_tab, pd.DataFrame), 'Did you create the cross tabulation DataFrame?'\n",
        "assert cross_tab.shape == (4,3), 'Did you remember to include the margins?'\n"
      ]
    },
    {
      "cell_type": "code",
      "execution_count": null,
      "metadata": {
        "id": "gsIR2Elku8TY"
      },
      "outputs": [],
      "source": []
    },
    {
      "cell_type": "markdown",
      "metadata": {
        "id": "ZV_UsohfC6r_"
      },
      "source": [
        "**Task 3** - First class probability\n",
        "\n",
        "Next we'll calculate the probability of being a First Class passenger; we'll write this probability as P(B)\n",
        "\n",
        "* using the cross tabulation results, calculate P(B) and assign it to the variable `p_b`\n",
        "\n",
        "*Hint: we write the probability of an event using a decimal, not a percent.*"
      ]
    },
    {
      "cell_type": "code",
      "execution_count": null,
      "metadata": {
        "colab": {
          "base_uri": "https://localhost:8080/"
        },
        "deletable": false,
        "id": "5XUHyDlNfV0q",
        "nbgrader": {
          "cell_type": "code",
          "checksum": "14fb6d770783c283312d87abc4aa14e4",
          "grade": false,
          "grade_id": "cell-f4bd227006d12bc1",
          "locked": false,
          "schema_version": 3,
          "solution": true,
          "task": false
        },
        "outputId": "8f5e2b70-18fc-4948-c2ae-45e57398cd7e"
      },
      "outputs": [
        {
          "output_type": "stream",
          "name": "stdout",
          "text": [
            "The value of P(B) is: 0.24351747463359638\n"
          ]
        }
      ],
      "source": [
        "# Task 3\n",
        "\n",
        "# YOUR CODE HERE\n",
        "p_b = cross_tab.loc[1,'All'] / cross_tab.loc['All','All']\n",
        "\n",
        "print('The value of P(B) is:', p_b)"
      ]
    },
    {
      "cell_type": "markdown",
      "metadata": {
        "id": "Ac4ddTPHfV0q"
      },
      "source": [
        "**Task 3 - Test**"
      ]
    },
    {
      "cell_type": "code",
      "execution_count": null,
      "metadata": {
        "deletable": false,
        "editable": false,
        "id": "ZLoKRMkjEs2D",
        "nbgrader": {
          "cell_type": "code",
          "checksum": "13ae4dd0e58da917a8281772cce84af4",
          "grade": true,
          "grade_id": "cell-28b49f01a6955c2f",
          "locked": true,
          "points": 1,
          "schema_version": 3,
          "solution": false,
          "task": false
        }
      },
      "outputs": [],
      "source": [
        "# Task 3 - Test\n",
        "# Hidden tests - you will see the results when you submit to Canvas"
      ]
    },
    {
      "cell_type": "markdown",
      "metadata": {
        "id": "3tJKQmH-Cm6u"
      },
      "source": [
        "**Task 4** - Conditional probability: A and B\n",
        "\n",
        "Now, we'll calculate the conditional probability of being a First Class passenger **and** surviving. We write this as P(A $\\cap$ B) and we read it as \"the probability of A and B\".\n",
        "\n",
        "* calculate the conditional probability P(A $\\cap$ B) and assign it to the variable `p_a_and_b`\n",
        "\n",
        "*Hint: we write the probability of an event using a decimal, not a percent.*"
      ]
    },
    {
      "cell_type": "code",
      "execution_count": null,
      "metadata": {
        "colab": {
          "base_uri": "https://localhost:8080/",
          "height": 206
        },
        "id": "jzmC-aRQu8TZ",
        "outputId": "284e3a28-950e-4f85-c823-0a0d18d90e4d"
      },
      "outputs": [
        {
          "output_type": "execute_result",
          "data": {
            "text/html": [
              "\n",
              "  <div id=\"df-c8fc7be7-6f54-415b-ad3b-32b6a0652979\">\n",
              "    <div class=\"colab-df-container\">\n",
              "      <div>\n",
              "<style scoped>\n",
              "    .dataframe tbody tr th:only-of-type {\n",
              "        vertical-align: middle;\n",
              "    }\n",
              "\n",
              "    .dataframe tbody tr th {\n",
              "        vertical-align: top;\n",
              "    }\n",
              "\n",
              "    .dataframe thead th {\n",
              "        text-align: right;\n",
              "    }\n",
              "</style>\n",
              "<table border=\"1\" class=\"dataframe\">\n",
              "  <thead>\n",
              "    <tr style=\"text-align: right;\">\n",
              "      <th>Survived</th>\n",
              "      <th>0</th>\n",
              "      <th>1</th>\n",
              "      <th>All</th>\n",
              "    </tr>\n",
              "    <tr>\n",
              "      <th>Pclass</th>\n",
              "      <th></th>\n",
              "      <th></th>\n",
              "      <th></th>\n",
              "    </tr>\n",
              "  </thead>\n",
              "  <tbody>\n",
              "    <tr>\n",
              "      <th>1</th>\n",
              "      <td>80</td>\n",
              "      <td>136</td>\n",
              "      <td>216</td>\n",
              "    </tr>\n",
              "    <tr>\n",
              "      <th>2</th>\n",
              "      <td>97</td>\n",
              "      <td>87</td>\n",
              "      <td>184</td>\n",
              "    </tr>\n",
              "    <tr>\n",
              "      <th>3</th>\n",
              "      <td>368</td>\n",
              "      <td>119</td>\n",
              "      <td>487</td>\n",
              "    </tr>\n",
              "    <tr>\n",
              "      <th>All</th>\n",
              "      <td>545</td>\n",
              "      <td>342</td>\n",
              "      <td>887</td>\n",
              "    </tr>\n",
              "  </tbody>\n",
              "</table>\n",
              "</div>\n",
              "      <button class=\"colab-df-convert\" onclick=\"convertToInteractive('df-c8fc7be7-6f54-415b-ad3b-32b6a0652979')\"\n",
              "              title=\"Convert this dataframe to an interactive table.\"\n",
              "              style=\"display:none;\">\n",
              "        \n",
              "  <svg xmlns=\"http://www.w3.org/2000/svg\" height=\"24px\"viewBox=\"0 0 24 24\"\n",
              "       width=\"24px\">\n",
              "    <path d=\"M0 0h24v24H0V0z\" fill=\"none\"/>\n",
              "    <path d=\"M18.56 5.44l.94 2.06.94-2.06 2.06-.94-2.06-.94-.94-2.06-.94 2.06-2.06.94zm-11 1L8.5 8.5l.94-2.06 2.06-.94-2.06-.94L8.5 2.5l-.94 2.06-2.06.94zm10 10l.94 2.06.94-2.06 2.06-.94-2.06-.94-.94-2.06-.94 2.06-2.06.94z\"/><path d=\"M17.41 7.96l-1.37-1.37c-.4-.4-.92-.59-1.43-.59-.52 0-1.04.2-1.43.59L10.3 9.45l-7.72 7.72c-.78.78-.78 2.05 0 2.83L4 21.41c.39.39.9.59 1.41.59.51 0 1.02-.2 1.41-.59l7.78-7.78 2.81-2.81c.8-.78.8-2.07 0-2.86zM5.41 20L4 18.59l7.72-7.72 1.47 1.35L5.41 20z\"/>\n",
              "  </svg>\n",
              "      </button>\n",
              "      \n",
              "  <style>\n",
              "    .colab-df-container {\n",
              "      display:flex;\n",
              "      flex-wrap:wrap;\n",
              "      gap: 12px;\n",
              "    }\n",
              "\n",
              "    .colab-df-convert {\n",
              "      background-color: #E8F0FE;\n",
              "      border: none;\n",
              "      border-radius: 50%;\n",
              "      cursor: pointer;\n",
              "      display: none;\n",
              "      fill: #1967D2;\n",
              "      height: 32px;\n",
              "      padding: 0 0 0 0;\n",
              "      width: 32px;\n",
              "    }\n",
              "\n",
              "    .colab-df-convert:hover {\n",
              "      background-color: #E2EBFA;\n",
              "      box-shadow: 0px 1px 2px rgba(60, 64, 67, 0.3), 0px 1px 3px 1px rgba(60, 64, 67, 0.15);\n",
              "      fill: #174EA6;\n",
              "    }\n",
              "\n",
              "    [theme=dark] .colab-df-convert {\n",
              "      background-color: #3B4455;\n",
              "      fill: #D2E3FC;\n",
              "    }\n",
              "\n",
              "    [theme=dark] .colab-df-convert:hover {\n",
              "      background-color: #434B5C;\n",
              "      box-shadow: 0px 1px 3px 1px rgba(0, 0, 0, 0.15);\n",
              "      filter: drop-shadow(0px 1px 2px rgba(0, 0, 0, 0.3));\n",
              "      fill: #FFFFFF;\n",
              "    }\n",
              "  </style>\n",
              "\n",
              "      <script>\n",
              "        const buttonEl =\n",
              "          document.querySelector('#df-c8fc7be7-6f54-415b-ad3b-32b6a0652979 button.colab-df-convert');\n",
              "        buttonEl.style.display =\n",
              "          google.colab.kernel.accessAllowed ? 'block' : 'none';\n",
              "\n",
              "        async function convertToInteractive(key) {\n",
              "          const element = document.querySelector('#df-c8fc7be7-6f54-415b-ad3b-32b6a0652979');\n",
              "          const dataTable =\n",
              "            await google.colab.kernel.invokeFunction('convertToInteractive',\n",
              "                                                     [key], {});\n",
              "          if (!dataTable) return;\n",
              "\n",
              "          const docLinkHtml = 'Like what you see? Visit the ' +\n",
              "            '<a target=\"_blank\" href=https://colab.research.google.com/notebooks/data_table.ipynb>data table notebook</a>'\n",
              "            + ' to learn more about interactive tables.';\n",
              "          element.innerHTML = '';\n",
              "          dataTable['output_type'] = 'display_data';\n",
              "          await google.colab.output.renderOutput(dataTable, element);\n",
              "          const docLink = document.createElement('div');\n",
              "          docLink.innerHTML = docLinkHtml;\n",
              "          element.appendChild(docLink);\n",
              "        }\n",
              "      </script>\n",
              "    </div>\n",
              "  </div>\n",
              "  "
            ],
            "text/plain": [
              "Survived    0    1  All\n",
              "Pclass                 \n",
              "1          80  136  216\n",
              "2          97   87  184\n",
              "3         368  119  487\n",
              "All       545  342  887"
            ]
          },
          "metadata": {},
          "execution_count": 310
        }
      ],
      "source": [
        "pd.crosstab(df['Pclass'], df['Survived'], margins=True)"
      ]
    },
    {
      "cell_type": "code",
      "execution_count": null,
      "metadata": {
        "colab": {
          "base_uri": "https://localhost:8080/"
        },
        "deletable": false,
        "id": "_XREg3idfV0t",
        "nbgrader": {
          "cell_type": "code",
          "checksum": "82f91b313040bb8ffdb48da304ef746e",
          "grade": false,
          "grade_id": "cell-c124ed27b905efad",
          "locked": false,
          "schema_version": 3,
          "solution": true,
          "task": false
        },
        "outputId": "ce961a20-00c9-43a9-cb22-dc995e029fd5"
      },
      "outputs": [
        {
          "output_type": "stream",
          "name": "stdout",
          "text": [
            "The value of P(A and B) is: 0.15332581736189402\n"
          ]
        }
      ],
      "source": [
        "# Task 4\n",
        "\n",
        "# YOUR CODE HERE\n",
        "p_a_and_b = cross_tab.loc[1,1] / cross_tab.loc['All','All']\n",
        "print('The value of P(A and B) is:', p_a_and_b)"
      ]
    },
    {
      "cell_type": "markdown",
      "metadata": {
        "id": "X5QTHXb7fV0t"
      },
      "source": [
        "**Task 4 - Test**"
      ]
    },
    {
      "cell_type": "code",
      "execution_count": null,
      "metadata": {
        "deletable": false,
        "editable": false,
        "id": "ie2WmfDlfV0t",
        "nbgrader": {
          "cell_type": "code",
          "checksum": "3de2a100e4af19c0c1bf9e8daaf97f39",
          "grade": true,
          "grade_id": "cell-94f5711349cc6887",
          "locked": true,
          "points": 1,
          "schema_version": 3,
          "solution": false,
          "task": false
        }
      },
      "outputs": [],
      "source": [
        "# Task 4 - Test\n",
        "# Hidden tests - you will see the results when you submit to Canvas"
      ]
    },
    {
      "cell_type": "markdown",
      "metadata": {
        "id": "MDdOtbnlfV0t"
      },
      "source": [
        "**Task 5** - Conditional probability: A given B\n",
        "\n",
        "Next, we'll calculate the conditional probability of surviving given the person was a First Class passenger. We write this as P(A|B) and we read it as \"the probability of A given B\".\n",
        "\n",
        "* generate a new cross tabulation with the parameter `normalize='index'`; name this table `cross_tab_norm`\n",
        "* calculate the conditional probability P(A|B) and assign it to the variable `p_a_given_b`\n",
        "\n",
        "*Hint: we write the probability of an event using a decimal, not a percent.*"
      ]
    },
    {
      "cell_type": "code",
      "execution_count": null,
      "metadata": {
        "colab": {
          "base_uri": "https://localhost:8080/"
        },
        "deletable": false,
        "id": "VzHakDD6DOcL",
        "nbgrader": {
          "cell_type": "code",
          "checksum": "d01643c7433d3317f3696af59d4537ab",
          "grade": false,
          "grade_id": "cell-7b16a6ecf032b8ba",
          "locked": false,
          "schema_version": 3,
          "solution": true,
          "task": false
        },
        "outputId": "cb9e2ed1-c53f-473d-83a3-e83617bff3d8"
      },
      "outputs": [
        {
          "output_type": "stream",
          "name": "stdout",
          "text": [
            "The value of P(A given B) is: 0.631578947368421\n"
          ]
        }
      ],
      "source": [
        "# Task 5\n",
        "\n",
        "# YOUR CODE HERE\n",
        "cross_tab_norm = pd.crosstab(df['Survived'], df['Pclass'], normalize='index')\n",
        "\n",
        "p_a_given_b = p_b / p_a\n",
        "\n",
        "print('The value of P(A given B) is:', p_a_given_b)"
      ]
    },
    {
      "cell_type": "markdown",
      "metadata": {
        "deletable": false,
        "editable": false,
        "id": "HVmkR9SXfV0u",
        "nbgrader": {
          "cell_type": "markdown",
          "checksum": "bf34b470e7835f50b0d6f52e6ac60730",
          "grade": false,
          "grade_id": "cell-5d1717dbbd5adc5a",
          "locked": true,
          "schema_version": 3,
          "solution": false,
          "task": false
        }
      },
      "source": [
        "**Task 5 - Test**"
      ]
    },
    {
      "cell_type": "code",
      "execution_count": null,
      "metadata": {
        "deletable": false,
        "editable": false,
        "id": "IgphlpCOFMDe",
        "nbgrader": {
          "cell_type": "code",
          "checksum": "8501c6490ac3e0cbd7399be2c56c24c0",
          "grade": true,
          "grade_id": "cell-e873df7d0460dbc5",
          "locked": true,
          "points": 1,
          "schema_version": 3,
          "solution": false,
          "task": false
        }
      },
      "outputs": [],
      "source": [
        "# Task 5 - Test\n",
        "assert isinstance(cross_tab_norm, pd.DataFrame), 'Did you create the new cross tabulation DataFrame?'"
      ]
    },
    {
      "cell_type": "markdown",
      "metadata": {
        "id": "PheF3oSXfV0u"
      },
      "source": [
        "**Task 6** - Conditional probability: B given A\n",
        "\n",
        "Okay, now we'll calculate the conditional probability of being a First Class passenger given the person survived. We write this as P(B|A) and we read it as \"the probability of B given A\".\n",
        "\n",
        "* create a new cross tabulation DataFrame and name it `cross_tab_norm2`.\n",
        "    * *Hint: You may find it helpful to reverse the order of the columns when you calculate the new table*\n",
        "* calculate the conditional probability P(B|A) and assign it to the variable `p_b_given_a`"
      ]
    },
    {
      "cell_type": "code",
      "execution_count": null,
      "metadata": {
        "colab": {
          "base_uri": "https://localhost:8080/"
        },
        "deletable": false,
        "id": "6I2m6yBFfV0u",
        "nbgrader": {
          "cell_type": "code",
          "checksum": "f3ed692f36fb25987efec83bd7cfffab",
          "grade": false,
          "grade_id": "cell-78df1483b44c6dd6",
          "locked": false,
          "schema_version": 3,
          "solution": true,
          "task": false
        },
        "outputId": "527ccaf3-ec5f-4c83-c6a7-a340db0e2cf0"
      },
      "outputs": [
        {
          "output_type": "stream",
          "name": "stdout",
          "text": [
            "The value of P(B given A) is: 0.39766081871345027\n"
          ]
        }
      ],
      "source": [
        "# Task 6\n",
        "\n",
        "# YOUR CODE HERE\n",
        "cross_tab_norm2 = pd.crosstab(df['Survived'], df['Pclass'], normalize='index')\n",
        "cross_tab_norm2\n",
        "p_b_given_a = cross_tab.loc[1,1] / cross_tab.loc['All',1]\n",
        "\n",
        "print('The value of P(B given A) is:', p_b_given_a)"
      ]
    },
    {
      "cell_type": "markdown",
      "metadata": {
        "id": "bK-0gwSLfV0v"
      },
      "source": [
        "**Task 6 - Test**"
      ]
    },
    {
      "cell_type": "code",
      "execution_count": null,
      "metadata": {
        "deletable": false,
        "editable": false,
        "id": "nPSLTZJXfV0v",
        "nbgrader": {
          "cell_type": "code",
          "checksum": "df2c67e9cb97b4905a2d83f50b1158cb",
          "grade": true,
          "grade_id": "cell-6b90b196728d2c90",
          "locked": true,
          "points": 1,
          "schema_version": 3,
          "solution": false,
          "task": false
        }
      },
      "outputs": [],
      "source": [
        "# Task 6 - Test\n",
        "assert isinstance(cross_tab_norm2, pd.DataFrame), 'Did you create another new cross tabulation DataFrame?'"
      ]
    },
    {
      "cell_type": "markdown",
      "metadata": {
        "id": "lxYJhvp1DkLS"
      },
      "source": [
        "**Task 7**\n",
        "\n",
        "So far, we have calculated the individual probabilities: P(A), P(B), P(A $\\cap$ B), P(A|B), and P(B|A). Now we're going to calculate the conditional probability P(A|B) using the following equation:\n",
        "\n",
        "$$P(A|B) = \\frac{P(A \\cap B)}{P(B)}$$\n",
        "\n",
        "* calculate the value of P(A|B) and assign it to the variable `calc1_p_a_given_b`\n",
        "* compare it to your value from Task 5 by testing if `p_a_given_b` is equal to `calc1_p_a_given_b` (use an assert statement!)"
      ]
    },
    {
      "cell_type": "code",
      "execution_count": null,
      "metadata": {
        "colab": {
          "base_uri": "https://localhost:8080/"
        },
        "deletable": false,
        "id": "6_Vq5xZ2fV0v",
        "nbgrader": {
          "cell_type": "code",
          "checksum": "7c6c9ad080c3bdf1865ca3d105c53dc8",
          "grade": false,
          "grade_id": "cell-f247272a2857b88b",
          "locked": false,
          "schema_version": 3,
          "solution": true,
          "task": false
        },
        "outputId": "5282339b-6aa5-4bbd-85ea-6b603eaa304b"
      },
      "outputs": [
        {
          "output_type": "stream",
          "name": "stdout",
          "text": [
            "The calculated value of P(A|B) is: 0.6296296296296297\n"
          ]
        }
      ],
      "source": [
        "# Task 7\n",
        "\n",
        "# YOUR CODE HERE\n",
        "calc1_p_a_given_b = p_a_and_b / p_b\n",
        "assert round(calc1_p_a_given_b, 1)== round(p_a_given_b, 1)\n",
        "\n",
        "print('The calculated value of P(A|B) is:', calc1_p_a_given_b)"
      ]
    },
    {
      "cell_type": "markdown",
      "metadata": {
        "id": "zr9B_5g8fV0w"
      },
      "source": [
        "**Task 7 - Test**"
      ]
    },
    {
      "cell_type": "code",
      "execution_count": null,
      "metadata": {
        "deletable": false,
        "editable": false,
        "id": "qTxbF-uRfV0w",
        "nbgrader": {
          "cell_type": "code",
          "checksum": "1a107f2f7086adcf54a2aaadb6a28527",
          "grade": true,
          "grade_id": "cell-04815f7901139e23",
          "locked": true,
          "points": 1,
          "schema_version": 3,
          "solution": false,
          "task": false
        }
      },
      "outputs": [],
      "source": [
        "# Task 7 - Test\n",
        "\n",
        "# Use this test to check your answer before submitting to Canvas/CodeGrade\n",
        "assert round(calc1_p_a_given_b, 1)== round(p_a_given_b, 1), 'Did you use the correct variables in your calculation?'\n"
      ]
    },
    {
      "cell_type": "markdown",
      "metadata": {
        "id": "M2pRVt7ADsFk"
      },
      "source": [
        "**Task 8**\n",
        "\n",
        "Finally, we're at the last calculation! We want to calculate P(A|B) again, using Bayes' Theorem:\n",
        "\n",
        "$$P(A|B) = \\frac{P(B|A)P(A)}{P(B)}$$\n",
        "\n",
        "* calculate the value of P(A|B) and assign it to the variable `calc2_p_a_given_b` (*notice the new variable name*)\n",
        "* compare it to your value from Task 5 by testing if p_a_given_b is equal to `calc2_p_a_given_b` (again, use an assert statement)"
      ]
    },
    {
      "cell_type": "code",
      "execution_count": null,
      "metadata": {
        "colab": {
          "base_uri": "https://localhost:8080/"
        },
        "deletable": false,
        "id": "pC0WbOFifV0w",
        "nbgrader": {
          "cell_type": "code",
          "checksum": "8076b6d8ba94230f061309165e69793f",
          "grade": false,
          "grade_id": "cell-c917c91e48739649",
          "locked": false,
          "schema_version": 3,
          "solution": true,
          "task": false
        },
        "outputId": "e945c617-5f08-42a3-b4b9-c5c8306860b2"
      },
      "outputs": [
        {
          "output_type": "stream",
          "name": "stdout",
          "text": [
            "The calculated value of P(A|B) using Bayes' Theorem is: 0.6296296296296297\n"
          ]
        }
      ],
      "source": [
        "# Task 8\n",
        "\n",
        "# YOUR CODE HERE\n",
        "calc2_p_a_given_b = (p_b_given_a * p_a) / p_b\n",
        "\n",
        "print(\"The calculated value of P(A|B) using Bayes' Theorem is:\", calc2_p_a_given_b)"
      ]
    },
    {
      "cell_type": "markdown",
      "metadata": {
        "id": "wSpwrX8efV0w"
      },
      "source": [
        "**Task 8 - Test**"
      ]
    },
    {
      "cell_type": "code",
      "execution_count": null,
      "metadata": {
        "deletable": false,
        "editable": false,
        "id": "wQhD60bafV0w",
        "nbgrader": {
          "cell_type": "code",
          "checksum": "8dafbfdaeb584218c28d4f26ebde540c",
          "grade": true,
          "grade_id": "cell-5b3ded4417bd9d18",
          "locked": true,
          "points": 1,
          "schema_version": 3,
          "solution": false,
          "task": false
        }
      },
      "outputs": [],
      "source": [
        "# Task 8 - Test\n",
        "\n",
        "# Use this test to check your answer before submitting to Canvas/CodeGrade\n",
        "assert round(calc2_p_a_given_b, 1) == round(p_a_given_b, 1), 'Did you use the correct variables in your calculation?'"
      ]
    },
    {
      "cell_type": "markdown",
      "metadata": {
        "id": "SB1m04Zf16Lo"
      },
      "source": [
        "## Part B\n",
        "\n",
        "### Hogwarts Sorting Hat and Conditional Probabilities\n",
        "\n",
        "Use the following information to complete Tasks 9 - 13\n",
        "\n",
        "\n",
        "Students arriving at Hogwarts are sorted into one of the four residential houses -- Gryffindor, Hufflepuff, Ravenclaw, and Slytherin -- by the magical Sorting Hat.\n",
        "\n",
        "In theory, the Hat is supposed to examine each student's personality, consider his or her wishes, and then place the student into the most appropriate house. However, after a thousand years, the Hat has gotten pretty lazy, so it has simplified its sorting process into a two-step algorithm:\n",
        "\n",
        "* All evil students go into Slytherin, obviously.\n",
        "\n",
        "* Everybody else is just randomly sorted into one of the four houses, with a 40% probability of being put into Hufflepuff and a 20% probability of being put into each of the three other houses.\n",
        "\n",
        "Hermione is shocked when she's sorted into Slytherin! She's never thought of herself as evil, but now that she considers it, becoming the future Dark Lady of Magical Britain does have some appeal...\n",
        "\n",
        "**If 10% of new Hogwarts students are evil, what is the probability that a randomly chosen Slytherin is evil?**\n",
        "\n",
        "*Hint: the value you want is P(Evil | Slytherin).*"
      ]
    },
    {
      "cell_type": "markdown",
      "metadata": {
        "id": "TB-dEdYIvXev"
      },
      "source": [
        "**Task 9** - Write out probability steps\n",
        "\n",
        "Write the relationship used to P(Evil|Slitherin) from P(Slithern|Evil), p(Evil) and P(Slytherin): \n",
        "\n",
        "* this Task is not autograded; write out your steps in the following markdown cell"
      ]
    },
    {
      "cell_type": "markdown",
      "metadata": {
        "id": "KcZoKPPOfV0x"
      },
      "source": [
        "**Task 9** - ANSWER\n",
        "\n",
        "P(E|S) = P(S|E) * P(E) / P(S)"
      ]
    },
    {
      "cell_type": "markdown",
      "metadata": {
        "id": "HzceET6m6qH-"
      },
      "source": [
        "**Task 10** - Determine P(Slytherin|Evil)\n",
        "\n",
        "Using the description in Part B above, determine P(Slytherin|Evil)\n",
        "\n",
        "* assign your value to the variable `p_slytherin_given_evil`"
      ]
    },
    {
      "cell_type": "code",
      "execution_count": null,
      "metadata": {
        "deletable": false,
        "id": "xw6XgTeYfV0x",
        "nbgrader": {
          "cell_type": "code",
          "checksum": "354796566a2c53dc24495ccba5ca8cc1",
          "grade": false,
          "grade_id": "cell-261fe68593bd204f",
          "locked": false,
          "schema_version": 3,
          "solution": true,
          "task": false
        },
        "outputId": "c2379017-a81d-45a7-8105-7cba8691a2bc",
        "colab": {
          "base_uri": "https://localhost:8080/"
        }
      },
      "outputs": [
        {
          "output_type": "stream",
          "name": "stdout",
          "text": [
            "The probability of being Slytherin given a student is evil is: 1\n"
          ]
        }
      ],
      "source": [
        "# Task 10\n",
        "\n",
        "# YOUR CODE HERE\n",
        "p_slytherin_given_evil = 1\n",
        "\n",
        "print(\"The probability of being Slytherin given a student is evil is:\", p_slytherin_given_evil)"
      ]
    },
    {
      "cell_type": "markdown",
      "metadata": {
        "id": "eqWOb2NifV0x"
      },
      "source": [
        "**Task 10 - Test**"
      ]
    },
    {
      "cell_type": "code",
      "execution_count": null,
      "metadata": {
        "deletable": false,
        "editable": false,
        "id": "On-8VjnAfV0y",
        "nbgrader": {
          "cell_type": "code",
          "checksum": "a4b2132c1b2837629b2c0cf2ac6388da",
          "grade": true,
          "grade_id": "cell-5ea3c604f8c46a38",
          "locked": true,
          "points": 1,
          "schema_version": 3,
          "solution": false,
          "task": false
        }
      },
      "outputs": [],
      "source": [
        "# Task 10 - Test\n",
        "# Hidden tests - you will see the results when you submit to Canvas"
      ]
    },
    {
      "cell_type": "markdown",
      "metadata": {
        "id": "J5tvhwT662fm"
      },
      "source": [
        "**Task 11** - Determine P(Evil)\n",
        "\n",
        "Using the description in Part B above, determine P(Evil)\n",
        "\n",
        "* assign your value to the variable `p_evil`"
      ]
    },
    {
      "cell_type": "code",
      "execution_count": null,
      "metadata": {
        "deletable": false,
        "id": "QJzsVlK2fV0y",
        "nbgrader": {
          "cell_type": "code",
          "checksum": "d9fa35e322f690a6c3211fab91abad2f",
          "grade": false,
          "grade_id": "cell-6c3502e03a1033ff",
          "locked": false,
          "schema_version": 3,
          "solution": true,
          "task": false
        },
        "outputId": "6162adea-896f-43d3-e704-4328188817e2",
        "colab": {
          "base_uri": "https://localhost:8080/"
        }
      },
      "outputs": [
        {
          "output_type": "stream",
          "name": "stdout",
          "text": [
            "The probability of being an evil student is: 0.1\n"
          ]
        }
      ],
      "source": [
        "# Task 11\n",
        "\n",
        "# YOUR CODE HERE\n",
        "p_evil = .10\n",
        "\n",
        "print(\"The probability of being an evil student is:\", p_evil)"
      ]
    },
    {
      "cell_type": "markdown",
      "metadata": {
        "id": "LVE54OXmfV0y"
      },
      "source": [
        "**Task 11 - Test**"
      ]
    },
    {
      "cell_type": "code",
      "execution_count": null,
      "metadata": {
        "deletable": false,
        "editable": false,
        "id": "XqjOJXAz67fe",
        "nbgrader": {
          "cell_type": "code",
          "checksum": "6169e3a8b73f62b9867075c2781dde39",
          "grade": true,
          "grade_id": "cell-e2ec0f21d4609dfd",
          "locked": true,
          "points": 1,
          "schema_version": 3,
          "solution": false,
          "task": false
        }
      },
      "outputs": [],
      "source": [
        "# Task 11 - Test\n",
        "# Hidden tests - you will see the results when you submit to Canvas"
      ]
    },
    {
      "cell_type": "markdown",
      "metadata": {
        "id": "rbNyx9Pd6_ze"
      },
      "source": [
        "**Task 12** - Determine P(Slytherin)\n",
        "\n",
        "Hint: This is a little tricky.  This is equal to the probability of a student being evil (and therefore being sorted into Slytherin) **added to** the probability of not being evil and being sorted into Slytherin.\n",
        "\n",
        "* assign the value of P(NOT Evil and Slytherin) to `p_not_evil_and_slytherin`\n",
        "* calculate the value of P(Slytherin) and assign it to `p_slytherin`"
      ]
    },
    {
      "cell_type": "code",
      "execution_count": null,
      "metadata": {
        "deletable": false,
        "id": "V7Idj7fWfV0y",
        "nbgrader": {
          "cell_type": "code",
          "checksum": "ff61bb598a9362d4a1df80f9d14ac513",
          "grade": false,
          "grade_id": "cell-4901b7dcdcfe8395",
          "locked": false,
          "schema_version": 3,
          "solution": true,
          "task": false
        },
        "outputId": "7bb34db8-cea1-4c47-f628-19531c2b34b2",
        "colab": {
          "base_uri": "https://localhost:8080/"
        }
      },
      "outputs": [
        {
          "output_type": "stream",
          "name": "stdout",
          "text": [
            "The probability of a student being in Slytherin is: 0.28\n"
          ]
        }
      ],
      "source": [
        "# Task 12\n",
        "#P(E|S) = P(S|E) * P(E) / P(S|E) * P(E)+P(S|!E)*P(!E)\n",
        "# YOUR CODE HERE\n",
        "p_not_evil_and_slytherin = (1) *.2 / (1) * .1 + (.9 * .2) *.9\n",
        "p_slytherin = round(p_not_evil_and_slytherin + p_evil,2)\n",
        "p_not_evil_and_slytherin\n",
        "print(\"The probability of a student being in Slytherin is:\", p_slytherin)"
      ]
    },
    {
      "cell_type": "markdown",
      "metadata": {
        "id": "HBbbPtQ8fV0z"
      },
      "source": [
        "**Task 12 - Test**"
      ]
    },
    {
      "cell_type": "code",
      "execution_count": null,
      "metadata": {
        "deletable": false,
        "editable": false,
        "id": "ONbh5xwlfV0z",
        "nbgrader": {
          "cell_type": "code",
          "checksum": "eac335f215b9109dd8e1560e725cb72a",
          "grade": true,
          "grade_id": "cell-eb712e5d7e1db780",
          "locked": true,
          "points": 1,
          "schema_version": 3,
          "solution": false,
          "task": false
        }
      },
      "outputs": [],
      "source": [
        "# Task 12 - Test\n",
        "# Hidden tests - you will see the results when you submit to Canvas"
      ]
    },
    {
      "cell_type": "markdown",
      "metadata": {
        "id": "K_hfqxQg7pZo"
      },
      "source": [
        "**Task 13** - Calculate P(Evil|Slytherin)\n",
        "\n",
        "We have arrived at the final Sorting Hat calculation! Now, we're are going to calculate the probability of P(Evil|Slytherin) using the following equation:\n",
        "\n",
        "$$P(Evil|Slytherin)= \\frac{P(Slytherin|Evil)P(Evil)}{P(Slytherin)}$$\n",
        "\n",
        "* calculate P(Evil|Slytherin) and assign it to `p_evil_given_slytherin`"
      ]
    },
    {
      "cell_type": "code",
      "execution_count": null,
      "metadata": {
        "colab": {
          "base_uri": "https://localhost:8080/"
        },
        "deletable": false,
        "id": "_SvOUvMOfV0z",
        "nbgrader": {
          "cell_type": "code",
          "checksum": "ec7e5424c422eb3226a9b5e15cc4a67f",
          "grade": false,
          "grade_id": "cell-8739d8cd9cb5d70e",
          "locked": false,
          "schema_version": 3,
          "solution": true,
          "task": false
        },
        "outputId": "e5d15ec9-ea3f-4ae3-f6f8-dab87bb5ab1d"
      },
      "outputs": [
        {
          "output_type": "execute_result",
          "data": {
            "text/plain": [
              "0.35714285714285715"
            ]
          },
          "metadata": {},
          "execution_count": 335
        }
      ],
      "source": [
        "# Task 13\n",
        " \n",
        "# YOUR CODE HERE\n",
        "p_evil_given_slytherin = p_slytherin_given_evil * p_evil / p_slytherin\n",
        "p_evil_given_slytherin"
      ]
    },
    {
      "cell_type": "markdown",
      "metadata": {
        "id": "Z9QDNH8DfV0z"
      },
      "source": [
        "**Task 13 - Test**"
      ]
    },
    {
      "cell_type": "code",
      "execution_count": null,
      "metadata": {
        "deletable": false,
        "editable": false,
        "id": "xMt0fykG7_BR",
        "nbgrader": {
          "cell_type": "code",
          "checksum": "355ac95a73cd869948cb4a96dabf5dc4",
          "grade": true,
          "grade_id": "cell-aa9312dca132f04b",
          "locked": true,
          "points": 1,
          "schema_version": 3,
          "solution": false,
          "task": false
        }
      },
      "outputs": [],
      "source": [
        "# Task 13 - Test\n",
        "# Hidden tests - you will see the results when you submit to Canvas"
      ]
    }
  ],
  "metadata": {
    "colab": {
      "name": "DS_123_Bayesian_Inference_Assignment_AG.ipynb",
      "provenance": []
    },
    "kernelspec": {
      "display_name": "Python 3",
      "language": "python",
      "name": "python3"
    },
    "language_info": {
      "codemirror_mode": {
        "name": "ipython",
        "version": 3
      },
      "file_extension": ".py",
      "mimetype": "text/x-python",
      "name": "python",
      "nbconvert_exporter": "python",
      "pygments_lexer": "ipython3",
      "version": "3.8.8"
    }
  },
  "nbformat": 4,
  "nbformat_minor": 0
}